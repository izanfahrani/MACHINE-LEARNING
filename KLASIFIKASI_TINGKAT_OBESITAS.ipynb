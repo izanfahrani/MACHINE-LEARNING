{
  "nbformat": 4,
  "nbformat_minor": 0,
  "metadata": {
    "colab": {
      "provenance": []
    },
    "kernelspec": {
      "name": "python3",
      "display_name": "Python 3"
    },
    "language_info": {
      "name": "python"
    }
  },
  "cells": [
    {
      "cell_type": "markdown",
      "source": [
        "**KLASIFIKASI TINGKAT OBESITAS**\n",
        "\n",
        "Program ini akan mengklasifikasikan tingkat obesiotas pada seseorang dengan menggunakan algoritma SVM(*Support Vector Machine*) dengan menggunakan bererapa indikator yang akan menjadi fitur/ variabelnya yakni ;\n",
        "> Usia /Age\n",
        "\n",
        "> Jenis kelamin /Gender\n",
        "\n",
        "> Berat/Height\n",
        "\n",
        "> Tinggi/Weight\n",
        "\n",
        "> Indeks Massa Tubuh (IMT) /IBM\n",
        "\n",
        "Sedangkan yang labelnya akan terbagi menjadi ; Normal Weight, Overweight, Unerweight,"
      ],
      "metadata": {
        "id": "ZtxdaP8VSYxz"
      }
    },
    {
      "cell_type": "code",
      "execution_count": 1,
      "metadata": {
        "id": "FFjbtKKSP5Rr"
      },
      "outputs": [],
      "source": [
        "#MEMBACA FILE DALAM BENTUK CSV DAN DISIMPAN DIDALAM VARIABEL OBESITAS\n",
        "import pandas as pd\n",
        "obesitas=pd.read_csv('/content/Obesity Classification.csv')"
      ]
    },
    {
      "cell_type": "code",
      "source": [
        "# UNTUK MENGETAHUI BERAPA BANYAK BARIS DAN KOLOM SERTA TIPE DATANYA\n",
        "obesitas.info()"
      ],
      "metadata": {
        "colab": {
          "base_uri": "https://localhost:8080/"
        },
        "id": "HUaljSsNQUhx",
        "outputId": "aaeb2da4-5752-44bf-8220-9c8270b32fb9"
      },
      "execution_count": 2,
      "outputs": [
        {
          "output_type": "stream",
          "name": "stdout",
          "text": [
            "<class 'pandas.core.frame.DataFrame'>\n",
            "RangeIndex: 108 entries, 0 to 107\n",
            "Data columns (total 7 columns):\n",
            " #   Column  Non-Null Count  Dtype  \n",
            "---  ------  --------------  -----  \n",
            " 0   ID      108 non-null    int64  \n",
            " 1   Age     108 non-null    int64  \n",
            " 2   Gender  108 non-null    object \n",
            " 3   Height  108 non-null    int64  \n",
            " 4   Weight  108 non-null    int64  \n",
            " 5   BMI     108 non-null    float64\n",
            " 6   Label   108 non-null    object \n",
            "dtypes: float64(1), int64(4), object(2)\n",
            "memory usage: 6.0+ KB\n"
          ]
        }
      ]
    },
    {
      "cell_type": "code",
      "source": [
        "#MENAMPILKAN 5 DATA TERATAS DARI FILE CSV\n",
        "obesitas.head(0)"
      ],
      "metadata": {
        "colab": {
          "base_uri": "https://localhost:8080/",
          "height": 139
        },
        "id": "Z25RlBbtQTwW",
        "outputId": "67a26e81-c077-4ae7-b056-9ffd2562bed8"
      },
      "execution_count": 3,
      "outputs": [
        {
          "output_type": "execute_result",
          "data": {
            "text/plain": [
              "Empty DataFrame\n",
              "Columns: [ID, Age, Gender, Height, Weight, BMI, Label]\n",
              "Index: []"
            ],
            "text/html": [
              "\n",
              "  <div id=\"df-2df6b4a0-e836-4118-b5da-5642b6deb07e\" class=\"colab-df-container\">\n",
              "    <div>\n",
              "<style scoped>\n",
              "    .dataframe tbody tr th:only-of-type {\n",
              "        vertical-align: middle;\n",
              "    }\n",
              "\n",
              "    .dataframe tbody tr th {\n",
              "        vertical-align: top;\n",
              "    }\n",
              "\n",
              "    .dataframe thead th {\n",
              "        text-align: right;\n",
              "    }\n",
              "</style>\n",
              "<table border=\"1\" class=\"dataframe\">\n",
              "  <thead>\n",
              "    <tr style=\"text-align: right;\">\n",
              "      <th></th>\n",
              "      <th>ID</th>\n",
              "      <th>Age</th>\n",
              "      <th>Gender</th>\n",
              "      <th>Height</th>\n",
              "      <th>Weight</th>\n",
              "      <th>BMI</th>\n",
              "      <th>Label</th>\n",
              "    </tr>\n",
              "  </thead>\n",
              "  <tbody>\n",
              "  </tbody>\n",
              "</table>\n",
              "</div>\n",
              "    <div class=\"colab-df-buttons\">\n",
              "\n",
              "  <div class=\"colab-df-container\">\n",
              "    <button class=\"colab-df-convert\" onclick=\"convertToInteractive('df-2df6b4a0-e836-4118-b5da-5642b6deb07e')\"\n",
              "            title=\"Convert this dataframe to an interactive table.\"\n",
              "            style=\"display:none;\">\n",
              "\n",
              "  <svg xmlns=\"http://www.w3.org/2000/svg\" height=\"24px\" viewBox=\"0 -960 960 960\">\n",
              "    <path d=\"M120-120v-720h720v720H120Zm60-500h600v-160H180v160Zm220 220h160v-160H400v160Zm0 220h160v-160H400v160ZM180-400h160v-160H180v160Zm440 0h160v-160H620v160ZM180-180h160v-160H180v160Zm440 0h160v-160H620v160Z\"/>\n",
              "  </svg>\n",
              "    </button>\n",
              "\n",
              "  <style>\n",
              "    .colab-df-container {\n",
              "      display:flex;\n",
              "      gap: 12px;\n",
              "    }\n",
              "\n",
              "    .colab-df-convert {\n",
              "      background-color: #E8F0FE;\n",
              "      border: none;\n",
              "      border-radius: 50%;\n",
              "      cursor: pointer;\n",
              "      display: none;\n",
              "      fill: #1967D2;\n",
              "      height: 32px;\n",
              "      padding: 0 0 0 0;\n",
              "      width: 32px;\n",
              "    }\n",
              "\n",
              "    .colab-df-convert:hover {\n",
              "      background-color: #E2EBFA;\n",
              "      box-shadow: 0px 1px 2px rgba(60, 64, 67, 0.3), 0px 1px 3px 1px rgba(60, 64, 67, 0.15);\n",
              "      fill: #174EA6;\n",
              "    }\n",
              "\n",
              "    .colab-df-buttons div {\n",
              "      margin-bottom: 4px;\n",
              "    }\n",
              "\n",
              "    [theme=dark] .colab-df-convert {\n",
              "      background-color: #3B4455;\n",
              "      fill: #D2E3FC;\n",
              "    }\n",
              "\n",
              "    [theme=dark] .colab-df-convert:hover {\n",
              "      background-color: #434B5C;\n",
              "      box-shadow: 0px 1px 3px 1px rgba(0, 0, 0, 0.15);\n",
              "      filter: drop-shadow(0px 1px 2px rgba(0, 0, 0, 0.3));\n",
              "      fill: #FFFFFF;\n",
              "    }\n",
              "  </style>\n",
              "\n",
              "    <script>\n",
              "      const buttonEl =\n",
              "        document.querySelector('#df-2df6b4a0-e836-4118-b5da-5642b6deb07e button.colab-df-convert');\n",
              "      buttonEl.style.display =\n",
              "        google.colab.kernel.accessAllowed ? 'block' : 'none';\n",
              "\n",
              "      async function convertToInteractive(key) {\n",
              "        const element = document.querySelector('#df-2df6b4a0-e836-4118-b5da-5642b6deb07e');\n",
              "        const dataTable =\n",
              "          await google.colab.kernel.invokeFunction('convertToInteractive',\n",
              "                                                    [key], {});\n",
              "        if (!dataTable) return;\n",
              "\n",
              "        const docLinkHtml = 'Like what you see? Visit the ' +\n",
              "          '<a target=\"_blank\" href=https://colab.research.google.com/notebooks/data_table.ipynb>data table notebook</a>'\n",
              "          + ' to learn more about interactive tables.';\n",
              "        element.innerHTML = '';\n",
              "        dataTable['output_type'] = 'display_data';\n",
              "        await google.colab.output.renderOutput(dataTable, element);\n",
              "        const docLink = document.createElement('div');\n",
              "        docLink.innerHTML = docLinkHtml;\n",
              "        element.appendChild(docLink);\n",
              "      }\n",
              "    </script>\n",
              "  </div>\n",
              "\n",
              "    </div>\n",
              "  </div>\n"
            ],
            "application/vnd.google.colaboratory.intrinsic+json": {
              "type": "dataframe",
              "variable_name": "obesitas",
              "summary": "{\n  \"name\": \"obesitas\",\n  \"rows\": 108,\n  \"fields\": [\n    {\n      \"column\": \"ID\",\n      \"properties\": {\n        \"dtype\": \"number\",\n        \"std\": 31,\n        \"min\": 1,\n        \"max\": 110,\n        \"num_unique_values\": 108,\n        \"samples\": [\n          80,\n          11,\n          5\n        ],\n        \"semantic_type\": \"\",\n        \"description\": \"\"\n      }\n    },\n    {\n      \"column\": \"Age\",\n      \"properties\": {\n        \"dtype\": \"number\",\n        \"std\": 24,\n        \"min\": 11,\n        \"max\": 112,\n        \"num_unique_values\": 75,\n        \"samples\": [\n          45,\n          41,\n          18\n        ],\n        \"semantic_type\": \"\",\n        \"description\": \"\"\n      }\n    },\n    {\n      \"column\": \"Gender\",\n      \"properties\": {\n        \"dtype\": \"category\",\n        \"num_unique_values\": 2,\n        \"samples\": [\n          \"Female\",\n          \"Male\"\n        ],\n        \"semantic_type\": \"\",\n        \"description\": \"\"\n      }\n    },\n    {\n      \"column\": \"Height\",\n      \"properties\": {\n        \"dtype\": \"number\",\n        \"std\": 27,\n        \"min\": 120,\n        \"max\": 210,\n        \"num_unique_values\": 10,\n        \"samples\": [\n          210,\n          160\n        ],\n        \"semantic_type\": \"\",\n        \"description\": \"\"\n      }\n    },\n    {\n      \"column\": \"Weight\",\n      \"properties\": {\n        \"dtype\": \"number\",\n        \"std\": 28,\n        \"min\": 10,\n        \"max\": 120,\n        \"num_unique_values\": 23,\n        \"samples\": [\n          105,\n          20\n        ],\n        \"semantic_type\": \"\",\n        \"description\": \"\"\n      }\n    },\n    {\n      \"column\": \"BMI\",\n      \"properties\": {\n        \"dtype\": \"number\",\n        \"std\": 7.5838181808419725,\n        \"min\": 3.9,\n        \"max\": 37.2,\n        \"num_unique_values\": 25,\n        \"samples\": [\n          37.2,\n          28.9\n        ],\n        \"semantic_type\": \"\",\n        \"description\": \"\"\n      }\n    },\n    {\n      \"column\": \"Label\",\n      \"properties\": {\n        \"dtype\": \"category\",\n        \"num_unique_values\": 4,\n        \"samples\": [\n          \"Overweight\",\n          \"Obese\"\n        ],\n        \"semantic_type\": \"\",\n        \"description\": \"\"\n      }\n    }\n  ]\n}"
            }
          },
          "metadata": {},
          "execution_count": 3
        }
      ]
    },
    {
      "cell_type": "code",
      "source": [
        "from sklearn.preprocessing import LabelEncoder\n",
        "\n",
        "# INISIALISASI LABEL ENCODER\n",
        "labelencoder = LabelEncoder()\n",
        "\n",
        "# MELAKUKAN LABEL ENCODER PADA KOLOM 'GENDER' UNTUK MENGUBAH DATA DARI KATEGORIK KE NUMERIK\n",
        "obesitas['Gender'] = labelencoder.fit_transform(obesitas['Gender'])\n",
        "\n",
        "# MENAMIPLKAN 5 DATA TERATAS YANG TELAH DIUBAH\n",
        "print(obesitas.head())\n"
      ],
      "metadata": {
        "colab": {
          "base_uri": "https://localhost:8080/"
        },
        "id": "C171oNVGQZTT",
        "outputId": "bd3c0a66-e496-4693-e45b-55ef4aac22d3"
      },
      "execution_count": 6,
      "outputs": [
        {
          "output_type": "stream",
          "name": "stdout",
          "text": [
            "   ID  Age  Gender  Height  Weight   BMI          Label\n",
            "0   1   25       1     175      80  25.3  Normal Weight\n",
            "1   2   30       0     160      60  22.5  Normal Weight\n",
            "2   3   35       1     180      90  27.3     Overweight\n",
            "3   4   40       0     150      50  20.0    Underweight\n",
            "4   5   45       1     190     100  31.2          Obese\n"
          ]
        }
      ]
    },
    {
      "cell_type": "code",
      "source": [
        "#MENGHAPUS KOLOM YANG TIDAK DIPERLUKAN YAKNI ID SEBAB ID TIDAK AKAN BERPENGARUH PADA PENGKLASIFIKASIAN\n",
        "obesitas = obesitas.drop('ID' , axis = 1)"
      ],
      "metadata": {
        "id": "hJ0BQ-m2QuNn"
      },
      "execution_count": 11,
      "outputs": []
    },
    {
      "cell_type": "code",
      "source": [
        "#MEMISAHKAN  FITUR DAN LABEL,DIMANA X ITU ADALAH FITUR DAN Y ADALAH LABEL\n",
        "X = obesitas.drop('Label', axis = 1)\n",
        "y = obesitas['Label']"
      ],
      "metadata": {
        "id": "fvI_xcvSRU2D"
      },
      "execution_count": 13,
      "outputs": []
    },
    {
      "cell_type": "code",
      "source": [
        "#MEMISAHKAN DATA LATIH DAN DATA UJI MENGGUNAKAN TRAIN_TEST_SPLIT\n",
        "from sklearn.model_selection import train_test_split\n",
        "X_train , X_test , y_train , y_test = train_test_split(X,y,test_size=0.2,random_state=42)"
      ],
      "metadata": {
        "id": "6UzWgztARnO4"
      },
      "execution_count": 15,
      "outputs": []
    },
    {
      "cell_type": "code",
      "source": [
        "from sklearn.svm import SVC\n",
        "\n",
        "# INISIALISASI MODEL SVM\n",
        "svm_model = SVC(kernel='linear', random_state=42)\n",
        "\n",
        "#MELATIH MODEL SVM MENGGUNAKAN DATA LATIH\n",
        "svm_model.fit(X_train, y_train)\n",
        "\n",
        "#MENGUJI MODEL SVM MENGGUNAKAN DATA UJI\n",
        "y_pred = svm_model.predict(X_test)\n"
      ],
      "metadata": {
        "id": "uKq1S2gTRy0J"
      },
      "execution_count": 17,
      "outputs": []
    },
    {
      "cell_type": "code",
      "source": [
        "# MENGHITUNG AKURASI MODEL MENGGUNAKAN ACCURACY_SCORE\n",
        "from sklearn.metrics import accuracy_score\n",
        "accuracy = accuracy_score(y_test, y_pred)\n",
        "print('Accuracy:', accuracy)"
      ],
      "metadata": {
        "colab": {
          "base_uri": "https://localhost:8080/"
        },
        "id": "AFkfPwPYSGGx",
        "outputId": "a60f6919-fa99-454f-a2d2-4f0044067f1f"
      },
      "execution_count": 18,
      "outputs": [
        {
          "output_type": "stream",
          "name": "stdout",
          "text": [
            "Accuracy: 0.9090909090909091\n"
          ]
        }
      ]
    },
    {
      "cell_type": "code",
      "source": [
        "# PREDIKSI DENGAN SVM_MODEL.PREDICT MENGGUNAKAN VARIABEL ['Age,'Gender','Height','Weight','BMI']\n",
        "new_data = [[20, 1, 174, 84, 25.1]]\n",
        "\n",
        "#MENCETAK HASIL PREDIKSI\n",
        "print(\"Prediction:\", prediction)\n"
      ],
      "metadata": {
        "colab": {
          "base_uri": "https://localhost:8080/"
        },
        "id": "ZUlWtrz2WaQD",
        "outputId": "ca24e1ad-6977-4c4f-de53-ed879aadf279"
      },
      "execution_count": 20,
      "outputs": [
        {
          "output_type": "stream",
          "name": "stdout",
          "text": [
            "Prediction: ['Overweight']\n"
          ]
        }
      ]
    }
  ]
}